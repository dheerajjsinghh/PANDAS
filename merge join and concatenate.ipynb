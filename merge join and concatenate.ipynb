{
 "cells": [
  {
   "metadata": {
    "ExecuteTime": {
     "end_time": "2024-07-11T12:18:14.362072Z",
     "start_time": "2024-07-11T12:18:14.346915Z"
    }
   },
   "cell_type": "code",
   "source": [
    "#MERGE\n",
    "import pandas as pd\n",
    "data1={\"EmpId\":[\"E01\",\"E02\",\"E03\",\"E04\",\"E05\"],\"Name\":[\"Dheeraj\",\"Harshit\",\"Dipesh\",\"Ansh\",\"Yash\"],\"Age\":[19,21,18,20,22]}\n",
    "data2={\"EmpId\":[\"E01\",\"E02\",\"E03\",\"E04\",\"E05\"],\"Salary\":[50000,30000,40000,60000,35000]}\n",
    "\n",
    "df1=pd.DataFrame(data1)\n",
    "df2=pd.DataFrame(data2)\n",
    "print(df1)\n",
    "print()\n",
    "print(df2)"
   ],
   "id": "6038b80756f1e937",
   "outputs": [
    {
     "name": "stdout",
     "output_type": "stream",
     "text": [
      "  EmpId     Name  Age\n",
      "0   E01  Dheeraj   19\n",
      "1   E02  Harshit   21\n",
      "2   E03   Dipesh   18\n",
      "3   E04     Ansh   20\n",
      "4   E05     Yash   22\n",
      "\n",
      "  EmpId  Salary\n",
      "0   E01   50000\n",
      "1   E02   30000\n",
      "2   E03   40000\n",
      "3   E04   60000\n",
      "4   E05   35000\n"
     ]
    }
   ],
   "execution_count": 11
  },
  {
   "metadata": {
    "ExecuteTime": {
     "end_time": "2024-07-11T12:13:28.362282Z",
     "start_time": "2024-07-11T12:13:28.212914Z"
    }
   },
   "cell_type": "code",
   "source": [
    "#merging both dataframes on the basis of empid\n",
    "df3=pd.merge(df1,df2,on=\"EmpId\")\n",
    "print(df3)"
   ],
   "id": "a9da64df8a47b59a",
   "outputs": [
    {
     "name": "stdout",
     "output_type": "stream",
     "text": [
      "  EmpId     Name  Age  Salary\n",
      "0   E01  Dheeraj   19   50000\n",
      "1   E02  Harshit   21   30000\n",
      "2   E03   Dipesh   18   40000\n",
      "3   E04     Ansh   20   60000\n",
      "4   E05     Yash   22   35000\n"
     ]
    }
   ],
   "execution_count": 2
  },
  {
   "metadata": {
    "ExecuteTime": {
     "end_time": "2024-07-11T12:18:17.901372Z",
     "start_time": "2024-07-11T12:18:17.880987Z"
    }
   },
   "cell_type": "code",
   "source": [
    "#if the data has empty elements then the particular row is not displayed\n",
    "data3={\"EmpId\":[\"E01\",\"E02\",\"E03\",\"E04\",\"E05\"],\"Name\":[\"Dheeraj\",\"Harshit\",\"Dipesh\",\"Ansh\",\"Yash\"],\"Age\":[19,21,18,20,22]}\n",
    "data4={\"EmpId\":[\"E01\",\"E02\",\"E03\",\"E07\",\"E08\"],\"Salary\":[50000,30000,40000,60000,35000]}\n",
    "\n",
    "df4=pd.DataFrame(data4)\n",
    "df5=pd.DataFrame(data3)\n",
    "df6=pd.merge(df1,df2,on=\"EmpId\")\n",
    "print(df3)"
   ],
   "id": "2b3e725bc48a1f8a",
   "outputs": [
    {
     "name": "stdout",
     "output_type": "stream",
     "text": [
      "  EmpId     Name  Age  Salary\n",
      "0   E01  Dheeraj   19   50000\n",
      "1   E02  Harshit   21   30000\n",
      "2   E03   Dipesh   18   40000\n"
     ]
    }
   ],
   "execution_count": 12
  },
  {
   "metadata": {
    "ExecuteTime": {
     "end_time": "2024-07-11T12:20:31.803715Z",
     "start_time": "2024-07-11T12:20:31.673463Z"
    }
   },
   "cell_type": "code",
   "source": [
    "#if we want to display all the data of a particular table even if it have a null value\n",
    "df7=pd.merge(df4,df5,on=\"EmpId\",how=\"left\")\n",
    "print(df7)"
   ],
   "id": "13aa7fc8807f1ff7",
   "outputs": [
    {
     "name": "stdout",
     "output_type": "stream",
     "text": [
      "  EmpId  Salary     Name   Age\n",
      "0   E01   50000  Dheeraj  19.0\n",
      "1   E02   30000  Harshit  21.0\n",
      "2   E03   40000   Dipesh  18.0\n",
      "3   E07   60000      NaN   NaN\n",
      "4   E08   35000      NaN   NaN\n"
     ]
    }
   ],
   "execution_count": 14
  },
  {
   "metadata": {
    "ExecuteTime": {
     "end_time": "2024-07-11T12:21:27.365871Z",
     "start_time": "2024-07-11T12:21:27.350641Z"
    }
   },
   "cell_type": "code",
   "source": [
    "#similarly\n",
    "df8=pd.merge(df4,df5,on=\"EmpId\",how=\"right\") #shows complete data table of right that is df5 in this case and df4 in above case\n",
    "print(df8)"
   ],
   "id": "b7ef0192a8cb5a17",
   "outputs": [
    {
     "name": "stdout",
     "output_type": "stream",
     "text": [
      "  EmpId   Salary     Name  Age\n",
      "0   E01  50000.0  Dheeraj   19\n",
      "1   E02  30000.0  Harshit   21\n",
      "2   E03  40000.0   Dipesh   18\n",
      "3   E04      NaN     Ansh   20\n",
      "4   E05      NaN     Yash   22\n"
     ]
    }
   ],
   "execution_count": 16
  },
  {
   "metadata": {
    "ExecuteTime": {
     "end_time": "2024-07-11T12:33:07.750693Z",
     "start_time": "2024-07-11T12:33:07.744047Z"
    }
   },
   "cell_type": "code",
   "source": [
    "#JOIN\n",
    "#will perform later"
   ],
   "id": "16c9b2b15e46325c",
   "outputs": [],
   "execution_count": 18
  },
  {
   "metadata": {
    "ExecuteTime": {
     "end_time": "2024-07-11T12:36:58.491686Z",
     "start_time": "2024-07-11T12:36:58.474283Z"
    }
   },
   "cell_type": "code",
   "source": [
    "#Concatenate\n",
    "#for concatenation , same type of fields should be present on the both the datas\n",
    "#it will add second |data after first data\n",
    "data5={\"EmpId\":[\"E01\",\"E02\",\"E03\",\"E04\",\"E05\"],\"Name\":[\"Dheeraj\",\"Harshit\",\"Dipesh\",\"Ansh\",\"Yash\"],\"Age\":[19,21,18,20,22]}\n",
    "data6={\"EmpId\":[\"E06\",\"E07\",\"E08\",\"E09\",\"E10\"],\"Name\":[\"Dheeru\",\"Harshu\",\"Dipu\",\"Anshu\",\"Yashu\"],\"Age\":[19,21,18,20,22]}\n",
    "dff1=pd.DataFrame(data5)\n",
    "dff2=pd.DataFrame(data6)\n",
    "\n",
    "dff3=pd.concat([dff1,dff2])\n",
    "print(dff3)"
   ],
   "id": "1cf8b77856d1ef8a",
   "outputs": [
    {
     "name": "stdout",
     "output_type": "stream",
     "text": [
      "  EmpId     Name  Age\n",
      "0   E01  Dheeraj   19\n",
      "1   E02  Harshit   21\n",
      "2   E03   Dipesh   18\n",
      "3   E04     Ansh   20\n",
      "4   E05     Yash   22\n",
      "0   E06   Dheeru   19\n",
      "1   E07   Harshu   21\n",
      "2   E08     Dipu   18\n",
      "3   E09    Anshu   20\n",
      "4   E10    Yashu   22\n"
     ]
    }
   ],
   "execution_count": 20
  },
  {
   "metadata": {},
   "cell_type": "code",
   "outputs": [],
   "execution_count": null,
   "source": "",
   "id": "749f24cc71dd97b4"
  }
 ],
 "metadata": {
  "kernelspec": {
   "display_name": "Python 3",
   "language": "python",
   "name": "python3"
  },
  "language_info": {
   "codemirror_mode": {
    "name": "ipython",
    "version": 2
   },
   "file_extension": ".py",
   "mimetype": "text/x-python",
   "name": "python",
   "nbconvert_exporter": "python",
   "pygments_lexer": "ipython2",
   "version": "2.7.6"
  }
 },
 "nbformat": 4,
 "nbformat_minor": 5
}
