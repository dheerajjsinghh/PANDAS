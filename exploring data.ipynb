{
 "cells": [
  {
   "cell_type": "code",
   "id": "initial_id",
   "metadata": {
    "collapsed": true,
    "ExecuteTime": {
     "end_time": "2024-06-26T10:01:40.583091Z",
     "start_time": "2024-06-26T10:01:38.489503Z"
    }
   },
   "source": [
    "import pandas as pd\n",
    "data=pd.read_excel(\"sample2.xls\")\n",
    "print(data)"
   ],
   "outputs": [
    {
     "name": "stdout",
     "output_type": "stream",
     "text": [
      "   0 First Name  Last Name  Gender        Country  Age        Date    Id\n",
      "0  1      Dulce      Abril  Female  United States   32  15/10/2017  1562\n",
      "1  2       Mara  Hashimoto  Female  Great Britain   25  16/08/2016  1582\n",
      "2  3     Philip       Gent    Male         France   36  21/05/2015  2587\n",
      "3  4   Kathleen     Hanner  Female  United States   25  15/10/2017  3549\n",
      "4  5    Nereida    Magwood  Female  United States   58  16/08/2016  2468\n",
      "5  6     Gaston      Brumm    Male  United States   24  21/05/2015  2554\n",
      "6  7       Etta       Hurn  Female  Great Britain   56  15/10/2017  3598\n",
      "7  8    Earlean     Melgar  Female  United States   27  16/08/2016  2456\n",
      "8  9   Vincenza    Weiland  Female  United States   40  21/05/2015  6548\n"
     ]
    }
   ],
   "execution_count": 1
  },
  {
   "metadata": {
    "ExecuteTime": {
     "end_time": "2024-06-26T10:02:25.764563Z",
     "start_time": "2024-06-26T10:02:25.749470Z"
    }
   },
   "cell_type": "code",
   "source": [
    "#if we want to read some entries from the top\n",
    "print(data.head(3))"
   ],
   "id": "18b8bb6ca851b02c",
   "outputs": [
    {
     "name": "stdout",
     "output_type": "stream",
     "text": [
      "   0 First Name  Last Name  Gender        Country  Age        Date    Id\n",
      "0  1      Dulce      Abril  Female  United States   32  15/10/2017  1562\n",
      "1  2       Mara  Hashimoto  Female  Great Britain   25  16/08/2016  1582\n",
      "2  3     Philip       Gent    Male         France   36  21/05/2015  2587\n"
     ]
    }
   ],
   "execution_count": 2
  },
  {
   "metadata": {
    "ExecuteTime": {
     "end_time": "2024-06-26T10:03:07.682884Z",
     "start_time": "2024-06-26T10:03:07.658336Z"
    }
   },
   "cell_type": "code",
   "source": [
    "#if we want to read some data from the last\n",
    "print(data.tail(3))"
   ],
   "id": "77ac28212bc32593",
   "outputs": [
    {
     "name": "stdout",
     "output_type": "stream",
     "text": [
      "   0 First Name Last Name  Gender        Country  Age        Date    Id\n",
      "6  7       Etta      Hurn  Female  Great Britain   56  15/10/2017  3598\n",
      "7  8    Earlean    Melgar  Female  United States   27  16/08/2016  2456\n",
      "8  9   Vincenza   Weiland  Female  United States   40  21/05/2015  6548\n"
     ]
    }
   ],
   "execution_count": 3
  },
  {
   "metadata": {
    "ExecuteTime": {
     "end_time": "2024-06-26T10:03:59.560975Z",
     "start_time": "2024-06-26T10:03:59.470019Z"
    }
   },
   "cell_type": "code",
   "source": [
    "#want to know about the fields and its type\n",
    "print(data.info())"
   ],
   "id": "524cb7953bb477b3",
   "outputs": [
    {
     "name": "stdout",
     "output_type": "stream",
     "text": [
      "<class 'pandas.core.frame.DataFrame'>\n",
      "RangeIndex: 9 entries, 0 to 8\n",
      "Data columns (total 8 columns):\n",
      " #   Column      Non-Null Count  Dtype \n",
      "---  ------      --------------  ----- \n",
      " 0   0           9 non-null      int64 \n",
      " 1   First Name  9 non-null      object\n",
      " 2   Last Name   9 non-null      object\n",
      " 3   Gender      9 non-null      object\n",
      " 4   Country     9 non-null      object\n",
      " 5   Age         9 non-null      int64 \n",
      " 6   Date        9 non-null      object\n",
      " 7   Id          9 non-null      int64 \n",
      "dtypes: int64(3), object(5)\n",
      "memory usage: 708.0+ bytes\n",
      "None\n"
     ]
    }
   ],
   "execution_count": 5
  },
  {
   "metadata": {
    "ExecuteTime": {
     "end_time": "2024-06-26T10:04:32.898081Z",
     "start_time": "2024-06-26T10:04:32.806307Z"
    }
   },
   "cell_type": "code",
   "source": [
    "#some basic operations on the columns with datatype int\n",
    "print(data.describe())"
   ],
   "id": "ce144acc3b37a3b1",
   "outputs": [
    {
     "name": "stdout",
     "output_type": "stream",
     "text": [
      "              0        Age           Id\n",
      "count  9.000000   9.000000     9.000000\n",
      "mean   5.000000  35.888889  2989.333333\n",
      "std    2.738613  13.147666  1511.344517\n",
      "min    1.000000  24.000000  1562.000000\n",
      "25%    3.000000  25.000000  2456.000000\n",
      "50%    5.000000  32.000000  2554.000000\n",
      "75%    7.000000  40.000000  3549.000000\n",
      "max    9.000000  58.000000  6548.000000\n"
     ]
    }
   ],
   "execution_count": 6
  },
  {
   "metadata": {
    "ExecuteTime": {
     "end_time": "2024-06-26T10:07:06.313611Z",
     "start_time": "2024-06-26T10:07:06.305114Z"
    }
   },
   "cell_type": "code",
   "source": [
    "#check null value\n",
    "print(data.isnull().sum())"
   ],
   "id": "319d28a7a84a049a",
   "outputs": [
    {
     "name": "stdout",
     "output_type": "stream",
     "text": [
      "0             0\n",
      "First Name    0\n",
      "Last Name     0\n",
      "Gender        0\n",
      "Country       0\n",
      "Age           0\n",
      "Date          0\n",
      "Id            0\n",
      "dtype: int64\n"
     ]
    }
   ],
   "execution_count": 7
  },
  {
   "metadata": {},
   "cell_type": "code",
   "outputs": [],
   "execution_count": null,
   "source": "",
   "id": "1661e9ee742b3251"
  }
 ],
 "metadata": {
  "kernelspec": {
   "display_name": "Python 3",
   "language": "python",
   "name": "python3"
  },
  "language_info": {
   "codemirror_mode": {
    "name": "ipython",
    "version": 2
   },
   "file_extension": ".py",
   "mimetype": "text/x-python",
   "name": "python",
   "nbconvert_exporter": "python",
   "pygments_lexer": "ipython2",
   "version": "2.7.6"
  }
 },
 "nbformat": 4,
 "nbformat_minor": 5
}
