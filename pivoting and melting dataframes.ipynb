{
 "cells": [
  {
   "cell_type": "code",
   "id": "initial_id",
   "metadata": {
    "collapsed": true,
    "ExecuteTime": {
     "end_time": "2024-07-16T13:16:10.470096Z",
     "start_time": "2024-07-16T13:16:10.456597Z"
    }
   },
   "source": [
    "import pandas as pd\n",
    "dict={\"keys\":[\"k1\",\"k2\",\"k3\",\"k4\"],\"names\":[\"john\",\"ben\",\"david\",\"peter\"],\"houses\":[\"red\",\"blue\",\"green\",\"red\"],\"grades\":[\"4th\",\"7th\",\"9th\",\"10th\"]}\n",
    "df=pd.DataFrame(dict)\n",
    "print(df)"
   ],
   "outputs": [
    {
     "name": "stdout",
     "output_type": "stream",
     "text": [
      "  keys  names houses grades\n",
      "0   k1   john    red    4th\n",
      "1   k2    ben   blue    7th\n",
      "2   k3  david  green    9th\n",
      "3   k4  peter    red   10th\n"
     ]
    }
   ],
   "execution_count": 8
  },
  {
   "metadata": {
    "ExecuteTime": {
     "end_time": "2024-07-16T13:17:12.954424Z",
     "start_time": "2024-07-16T13:17:12.914364Z"
    }
   },
   "cell_type": "code",
   "source": [
    "#pivot(rows,columns,value)\n",
    "pdf=df.pivot(index=\"keys\",columns=\"names\",values=[\"houses\",\"grades\"])\n",
    "print(pdf)\n"
   ],
   "id": "d9b4829ef3c4ba32",
   "outputs": [
    {
     "name": "stdout",
     "output_type": "stream",
     "text": [
      "      houses                   grades                 \n",
      "names    ben  david john peter    ben david john peter\n",
      "keys                                                  \n",
      "k1       NaN    NaN  red   NaN    NaN   NaN  4th   NaN\n",
      "k2      blue    NaN  NaN   NaN    7th   NaN  NaN   NaN\n",
      "k3       NaN  green  NaN   NaN    NaN   9th  NaN   NaN\n",
      "k4       NaN    NaN  NaN   red    NaN   NaN  NaN  10th\n"
     ]
    }
   ],
   "execution_count": 11
  },
  {
   "metadata": {
    "ExecuteTime": {
     "end_time": "2024-07-16T13:19:13.989519Z",
     "start_time": "2024-07-16T13:19:13.978660Z"
    }
   },
   "cell_type": "code",
   "source": [
    "#MELTING\n",
    "dict1={\"names\":[\"john\",\"ben\",\"david\",\"peter\"],\"houses\":[\"red\",\"blue\",\"green\",\"red\"],\"grades\":[\"4th\",\"7th\",\"9th\",\"10th\"]}\n",
    "df1=pd.DataFrame(dict1)\n",
    "print(df1)"
   ],
   "id": "966563183c8b5354",
   "outputs": [
    {
     "name": "stdout",
     "output_type": "stream",
     "text": [
      "   names houses grades\n",
      "0   john    red    4th\n",
      "1    ben   blue    7th\n",
      "2  david  green    9th\n",
      "3  peter    red   10th\n"
     ]
    }
   ],
   "execution_count": 12
  },
  {
   "metadata": {
    "ExecuteTime": {
     "end_time": "2024-07-16T13:20:59.959789Z",
     "start_time": "2024-07-16T13:20:59.938503Z"
    }
   },
   "cell_type": "code",
   "source": [
    "pdf1=pd.melt(df,id_vars=[\"names\"],value_vars=[\"houses\",\"grades\"])\n",
    "print(pdf1)"
   ],
   "id": "83d8e5d2be4f64e1",
   "outputs": [
    {
     "name": "stdout",
     "output_type": "stream",
     "text": [
      "   names variable  value\n",
      "0   john   houses    red\n",
      "1    ben   houses   blue\n",
      "2  david   houses  green\n",
      "3  peter   houses    red\n",
      "4   john   grades    4th\n",
      "5    ben   grades    7th\n",
      "6  david   grades    9th\n",
      "7  peter   grades   10th\n"
     ]
    }
   ],
   "execution_count": 14
  },
  {
   "metadata": {
    "ExecuteTime": {
     "end_time": "2024-07-16T13:22:53.546606Z",
     "start_time": "2024-07-16T13:22:53.527786Z"
    }
   },
   "cell_type": "code",
   "source": [
    "#set own variable name\n",
    "pdf2=pd.melt(df,id_vars=[\"names\"],value_vars=[\"houses\",\"grades\"],var_name=\"Houses & Grades\" , value_name=\"Values\")\n",
    "print(pdf2)"
   ],
   "id": "69b912efaba2ef80",
   "outputs": [
    {
     "name": "stdout",
     "output_type": "stream",
     "text": [
      "   names Houses & Grades Values\n",
      "0   john          houses    red\n",
      "1    ben          houses   blue\n",
      "2  david          houses  green\n",
      "3  peter          houses    red\n",
      "4   john          grades    4th\n",
      "5    ben          grades    7th\n",
      "6  david          grades    9th\n",
      "7  peter          grades   10th\n"
     ]
    }
   ],
   "execution_count": 15
  },
  {
   "metadata": {},
   "cell_type": "code",
   "outputs": [],
   "execution_count": null,
   "source": "",
   "id": "e7b4e3938c0887f8"
  }
 ],
 "metadata": {
  "kernelspec": {
   "display_name": "Python 3",
   "language": "python",
   "name": "python3"
  },
  "language_info": {
   "codemirror_mode": {
    "name": "ipython",
    "version": 2
   },
   "file_extension": ".py",
   "mimetype": "text/x-python",
   "name": "python",
   "nbconvert_exporter": "python",
   "pygments_lexer": "ipython2",
   "version": "2.7.6"
  }
 },
 "nbformat": 4,
 "nbformat_minor": 5
}
