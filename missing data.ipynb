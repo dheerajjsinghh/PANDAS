{
 "cells": [
  {
   "cell_type": "code",
   "id": "initial_id",
   "metadata": {
    "collapsed": true,
    "ExecuteTime": {
     "end_time": "2024-06-27T13:10:01.722561Z",
     "start_time": "2024-06-27T13:10:01.242433Z"
    }
   },
   "source": [
    "import pandas as pd\n",
    "import numpy as np\n",
    "data=pd.read_csv(\"company1.csv\")\n",
    "print(data)"
   ],
   "outputs": [
    {
     "name": "stdout",
     "output_type": "stream",
     "text": [
      "    EEID      Name gender   salary\n",
      "0  EMP01    ayushi      F      NaN\n",
      "1  EMP02     rohit      M  25000.0\n",
      "2  EMP03  pranjali    NaN  27000.0\n",
      "3  EMP01    ayushi      F  20000.0\n",
      "4  EMP05       NaN      M  25000.0\n",
      "5  EMP06     rohit      M      NaN\n",
      "6  EMP02     rohit      M  25000.0\n"
     ]
    }
   ],
   "execution_count": 1
  },
  {
   "metadata": {
    "ExecuteTime": {
     "end_time": "2024-06-27T13:22:42.952002Z",
     "start_time": "2024-06-27T13:22:42.925810Z"
    }
   },
   "cell_type": "code",
   "source": "print(data[\"salary\"].mean())",
   "id": "7c782a659b8806a2",
   "outputs": [
    {
     "name": "stdout",
     "output_type": "stream",
     "text": [
      "24400.0\n"
     ]
    }
   ],
   "execution_count": 8
  },
  {
   "metadata": {
    "ExecuteTime": {
     "end_time": "2024-06-27T13:12:44.681545Z",
     "start_time": "2024-06-27T13:12:44.669607Z"
    }
   },
   "cell_type": "code",
   "source": "print(data.isnull())",
   "id": "98521264b4686038",
   "outputs": [
    {
     "name": "stdout",
     "output_type": "stream",
     "text": [
      "    EEID   Name  gender  salary\n",
      "0  False  False   False    True\n",
      "1  False  False   False   False\n",
      "2  False  False    True   False\n",
      "3  False  False   False   False\n",
      "4  False   True   False   False\n",
      "5  False  False   False    True\n",
      "6  False  False   False   False\n"
     ]
    }
   ],
   "execution_count": 2
  },
  {
   "metadata": {
    "ExecuteTime": {
     "end_time": "2024-06-27T13:13:05.685543Z",
     "start_time": "2024-06-27T13:13:05.302852Z"
    }
   },
   "cell_type": "code",
   "source": "print(data.isnull().sum())",
   "id": "2703aa7985610753",
   "outputs": [
    {
     "name": "stdout",
     "output_type": "stream",
     "text": [
      "EEID      0\n",
      "Name      1\n",
      "gender    1\n",
      "salary    2\n",
      "dtype: int64\n"
     ]
    }
   ],
   "execution_count": 3
  },
  {
   "metadata": {
    "ExecuteTime": {
     "end_time": "2024-06-27T13:14:01.572727Z",
     "start_time": "2024-06-27T13:14:01.557432Z"
    }
   },
   "cell_type": "code",
   "source": [
    "#drop all null values\n",
    "print(data.dropna())\n",
    "#we can't drop all null values everytime as it will affect the data"
   ],
   "id": "fd7e7e855c58a30f",
   "outputs": [
    {
     "name": "stdout",
     "output_type": "stream",
     "text": [
      "    EEID    Name gender   salary\n",
      "1  EMP02   rohit      M  25000.0\n",
      "3  EMP01  ayushi      F  20000.0\n",
      "6  EMP02   rohit      M  25000.0\n"
     ]
    }
   ],
   "execution_count": 4
  },
  {
   "metadata": {
    "ExecuteTime": {
     "end_time": "2024-06-27T13:15:38.947985Z",
     "start_time": "2024-06-27T13:15:38.911050Z"
    }
   },
   "cell_type": "code",
   "source": [
    "#to replace the null values\n",
    "print(data.replace(np.nan,\"hello\"))\n",
    "#the places where null values are present it will change them with the value provided"
   ],
   "id": "a188dee89d91b5eb",
   "outputs": [
    {
     "name": "stdout",
     "output_type": "stream",
     "text": [
      "    EEID      Name gender   salary\n",
      "0  EMP01    ayushi      F    hello\n",
      "1  EMP02     rohit      M  25000.0\n",
      "2  EMP03  pranjali  hello  27000.0\n",
      "3  EMP01    ayushi      F  20000.0\n",
      "4  EMP05     hello      M  25000.0\n",
      "5  EMP06     rohit      M    hello\n",
      "6  EMP02     rohit      M  25000.0\n"
     ]
    }
   ],
   "execution_count": 5
  },
  {
   "metadata": {
    "ExecuteTime": {
     "end_time": "2024-06-27T13:25:36.162314Z",
     "start_time": "2024-06-27T13:25:36.143079Z"
    }
   },
   "cell_type": "code",
   "source": [
    "#if we want to fill the null values of particular columnn\n",
    "#for salary column the best approach is that we find the mean of salary and fill to remaining cells\n",
    "data[\"salary\"]=data[\"salary\"].replace(np.nan,24400)\n",
    "print(data)\n",
    "print(data[\"salary\"].mean())"
   ],
   "id": "5bc5030f491cb614",
   "outputs": [
    {
     "name": "stdout",
     "output_type": "stream",
     "text": [
      "    EEID      Name gender   salary\n",
      "0  EMP01    ayushi      F  24400.0\n",
      "1  EMP02     rohit      M  25000.0\n",
      "2  EMP03  pranjali    NaN  27000.0\n",
      "3  EMP01    ayushi      F  20000.0\n",
      "4  EMP05       NaN      M  25000.0\n",
      "5  EMP06     rohit      M  24400.0\n",
      "6  EMP02     rohit      M  25000.0\n",
      "24400.0\n"
     ]
    }
   ],
   "execution_count": 13
  },
  {
   "metadata": {
    "ExecuteTime": {
     "end_time": "2024-06-27T13:45:43.252574Z",
     "start_time": "2024-06-27T13:45:43.151035Z"
    }
   },
   "cell_type": "code",
   "source": [
    "#for gender it iw not better approach to fill every field with male or female\n",
    "#so we use forward fill or backward fill\n",
    "print(data.fillna(method=\"bfill\"))"
   ],
   "id": "53f0457463183e23",
   "outputs": [
    {
     "name": "stdout",
     "output_type": "stream",
     "text": [
      "    EEID      Name gender   salary\n",
      "0  EMP01    ayushi      F  24400.0\n",
      "1  EMP02     rohit      M  25000.0\n",
      "2  EMP03  pranjali      F  27000.0\n",
      "3  EMP01    ayushi      F  20000.0\n",
      "4  EMP05     rohit      M  25000.0\n",
      "5  EMP06     rohit      M  24400.0\n",
      "6  EMP02     rohit      M  25000.0\n"
     ]
    },
    {
     "name": "stderr",
     "output_type": "stream",
     "text": [
      "C:\\Users\\dheeraj\\AppData\\Local\\Temp\\ipykernel_9616\\1203819250.py:3: FutureWarning: DataFrame.fillna with 'method' is deprecated and will raise in a future version. Use obj.ffill() or obj.bfill() instead.\n",
      "  print(data.fillna(method=\"bfill\"))\n"
     ]
    }
   ],
   "execution_count": 14
  },
  {
   "metadata": {
    "ExecuteTime": {
     "end_time": "2024-06-27T13:46:47.951418Z",
     "start_time": "2024-06-27T13:46:47.938491Z"
    }
   },
   "cell_type": "code",
   "source": "print(data.ffill())",
   "id": "3fb18aac3dff6a25",
   "outputs": [
    {
     "name": "stdout",
     "output_type": "stream",
     "text": [
      "    EEID      Name gender   salary\n",
      "0  EMP01    ayushi      F  24400.0\n",
      "1  EMP02     rohit      M  25000.0\n",
      "2  EMP03  pranjali      M  27000.0\n",
      "3  EMP01    ayushi      F  20000.0\n",
      "4  EMP05    ayushi      M  25000.0\n",
      "5  EMP06     rohit      M  24400.0\n",
      "6  EMP02     rohit      M  25000.0\n"
     ]
    }
   ],
   "execution_count": 15
  },
  {
   "metadata": {
    "ExecuteTime": {
     "end_time": "2024-06-27T13:47:45.660017Z",
     "start_time": "2024-06-27T13:47:45.645512Z"
    }
   },
   "cell_type": "code",
   "source": "print(data.fillna(\"hi\"))",
   "id": "b9bbb4b39a191d54",
   "outputs": [
    {
     "name": "stdout",
     "output_type": "stream",
     "text": [
      "    EEID      Name gender   salary\n",
      "0  EMP01    ayushi      F  24400.0\n",
      "1  EMP02     rohit      M  25000.0\n",
      "2  EMP03  pranjali     hi  27000.0\n",
      "3  EMP01    ayushi      F  20000.0\n",
      "4  EMP05        hi      M  25000.0\n",
      "5  EMP06     rohit      M  24400.0\n",
      "6  EMP02     rohit      M  25000.0\n"
     ]
    }
   ],
   "execution_count": 17
  },
  {
   "metadata": {},
   "cell_type": "code",
   "outputs": [],
   "execution_count": null,
   "source": "",
   "id": "8f3a7bdb57c03320"
  }
 ],
 "metadata": {
  "kernelspec": {
   "display_name": "Python 3",
   "language": "python",
   "name": "python3"
  },
  "language_info": {
   "codemirror_mode": {
    "name": "ipython",
    "version": 2
   },
   "file_extension": ".py",
   "mimetype": "text/x-python",
   "name": "python",
   "nbconvert_exporter": "python",
   "pygments_lexer": "ipython2",
   "version": "2.7.6"
  }
 },
 "nbformat": 4,
 "nbformat_minor": 5
}
